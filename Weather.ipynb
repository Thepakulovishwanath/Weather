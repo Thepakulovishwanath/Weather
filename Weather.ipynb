{
 "cells": [
  {
   "cell_type": "code",
   "execution_count": 16,
   "id": "60832b73-f274-4140-8312-93fa608ec649",
   "metadata": {},
   "outputs": [
    {
     "name": "stdin",
     "output_type": "stream",
     "text": [
      "Enter city name mumbai\n"
     ]
    },
    {
     "name": "stdout",
     "output_type": "stream",
     "text": [
      "Weather in Mumbai is hot with a temperature of 38°C\n"
     ]
    }
   ],
   "source": [
    "# Define a dictionary to store weather data for different cities\n",
    "weather = {\n",
    "    \"Hyderabad\": {\"Temparature\": 35, \"condition\": \"Worm\"},\n",
    "    \"Chennai\": {\"Temparature\": 40, \"condition\": \"Hot\"},\n",
    "    \"Bangalore\": {\"Temparature\": 30, \"condition\": \"Sunny\"},\n",
    "    \"Mumbai\": {\"Temparature\": 38, \"condition\": \"Hot\"}\n",
    "}\n",
    "\n",
    "# Define a lambda function to format weather details\n",
    "weather_det = lambda city, data: f\"Weather in {city} is {data['condition']} with a temperature of {data['Temparature']}°C\"\n",
    "\n",
    "# Define a function to retrieve weather details for a given city\n",
    "def Weather_Details(city):\n",
    "    # Check if the city is present in the weather dictionary\n",
    "    if city in weather:\n",
    "        # Return the formatted weather details using the lambda function\n",
    "        return weather_det(city, weather[city])\n",
    "    else:\n",
    "        # Print a message if the city's details are not available\n",
    "        print(f\"This {city} details are not available\")\n",
    "\n",
    "# Prompt the user to enter a city name\n",
    "city = input(\"Enter city name\").capitalize()\n",
    "\n",
    "# Call the Weather_Details function and print the result\n",
    "print(Weather_Details(city))"
   ]
  },
  {
   "cell_type": "code",
   "execution_count": null,
   "id": "a26b1a88-4f28-481a-adf0-20339201b58d",
   "metadata": {},
   "outputs": [],
   "source": []
  }
 ],
 "metadata": {
  "kernelspec": {
   "display_name": "Python 3 (ipykernel)",
   "language": "python",
   "name": "python3"
  },
  "language_info": {
   "codemirror_mode": {
    "name": "ipython",
    "version": 3
   },
   "file_extension": ".py",
   "mimetype": "text/x-python",
   "name": "python",
   "nbconvert_exporter": "python",
   "pygments_lexer": "ipython3",
   "version": "3.12.4"
  }
 },
 "nbformat": 4,
 "nbformat_minor": 5
}
